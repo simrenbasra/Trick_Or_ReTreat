{
 "cells": [
  {
   "cell_type": "markdown",
   "metadata": {},
   "source": [
    "# Custom Environment: Simple Haunted Mansion\n",
    "------"
   ]
  },
  {
   "cell_type": "markdown",
   "metadata": {},
   "source": [
    "## Basic Game Information\n",
    "\n",
    "For this notebook, I will be simplifying the scope of the environment. In the simple Haunted Mansion, there are no ghosts or candies, the only reward is the exit door.\n",
    "\n",
    "Below is further information:\n",
    "\n",
    "    - There are 4 discrete actions the agent can take: up. down, left and right\n",
    "    - The game terminates when the agent has reached the exit door of the haunted mansion\n",
    "    - To keep it simple, the agent is only to receive a reward of + 1 when they have reached the exit door\n",
    "    - The agent represents the trick-or-treater\n",
    "    "
   ]
  },
  {
   "cell_type": "markdown",
   "metadata": {},
   "source": [
    "## Set Up\n",
    "-----"
   ]
  },
  {
   "cell_type": "code",
   "execution_count": 1,
   "metadata": {},
   "outputs": [],
   "source": [
    "import numpy as np\n",
    "import gymnasium as gym\n",
    "#import gym \n",
    "import pygame\n",
    "from simple_env import Simple_Haunted_Mansion\n",
    "import matplotlib.pyplot as plt"
   ]
  },
  {
   "cell_type": "markdown",
   "metadata": {},
   "source": [
    "## Defining a Custom Environment\n",
    "---"
   ]
  },
  {
   "cell_type": "markdown",
   "metadata": {},
   "source": [
    "OpenAI Gymnasium has some code to help create custom environments, link: https://gymnasium.farama.org/introduction/create_custom_env/\n",
    "\n",
    "I have used this code as the basis for my custom environment."
   ]
  },
  {
   "cell_type": "code",
   "execution_count": 2,
   "metadata": {},
   "outputs": [],
   "source": [
    "# Register the environment\n",
    "gym.register(\n",
    "    id='Haunted_Mansion-v1',\n",
    "    entry_point='simple_env:Simple_Haunted_Mansion'  \n",
    ")"
   ]
  },
  {
   "cell_type": "code",
   "execution_count": 3,
   "metadata": {},
   "outputs": [],
   "source": [
    "# Make the custom env, set the render_mode to huamn\n",
    "env = gym.make('Haunted_Mansion-v1',  render_mode='human')"
   ]
  },
  {
   "cell_type": "markdown",
   "metadata": {},
   "source": [
    "## Random Movement (Testing of the Rendering)"
   ]
  },
  {
   "cell_type": "code",
   "execution_count": 29,
   "metadata": {},
   "outputs": [],
   "source": [
    "# Resetting the environment, to set the agent to a random starting place on the grid\n",
    "env.reset()\n",
    "\n",
    "# Run the environment for 50 random steps\n",
    "for i in range(50):\n",
    "\n",
    "    # Using sample() to pick random action for agent to take\n",
    "    action = env.action_space.sample()\n",
    "    # Calling step to get information on env after action takes the random action\n",
    "    obs, reward, terminated, truncated, info = env.step(action)\n",
    "    \n",
    "    # Rendering env to see the agent's movement\n",
    "    env.render()\n",
    "    \n",
    "    # Add time delay in pygame to pause after each action, allows for better viewing\n",
    "    pygame.time.delay(350)\n",
    "\n",
    "    # If the agent has reached the target, break out of the loop and end the episode\n",
    "    if terminated:\n",
    "        break\n",
    "        \n",
    "# Close the environment\n",
    "env.close()"
   ]
  },
  {
   "cell_type": "markdown",
   "metadata": {},
   "source": [
    "## Training with PPO Algorithm\n",
    "----\n",
    "\n",
    "Deciding not to store logs at the moment as environment is fairly simple."
   ]
  },
  {
   "cell_type": "code",
   "execution_count": 4,
   "metadata": {},
   "outputs": [],
   "source": [
    "# Importing stable baselines 3 for PPO and Wrappers\n",
    "from stable_baselines3 import PPO\n",
    "from stable_baselines3.common.vec_env import DummyVecEnv\n",
    "from stable_baselines3.common.vec_env import VecMonitor"
   ]
  },
  {
   "cell_type": "code",
   "execution_count": 5,
   "metadata": {},
   "outputs": [
    {
     "name": "stderr",
     "output_type": "stream",
     "text": [
      "/Users/simybasra/anaconda3/envs/trick_or_retreat/lib/python3.9/site-packages/gymnasium/envs/registration.py:694: UserWarning: \u001b[33mWARN: Overriding environment Haunted_Mansion-v1 already in registry.\u001b[0m\n",
      "  logger.warn(f\"Overriding environment {new_spec.id} already in registry.\")\n"
     ]
    }
   ],
   "source": [
    "gym.register(\n",
    "    id='Haunted_Mansion-v1',\n",
    "    entry_point='simple_env:Simple_Haunted_Mansion'  \n",
    ")"
   ]
  },
  {
   "cell_type": "code",
   "execution_count": 6,
   "metadata": {},
   "outputs": [],
   "source": [
    "log_path = ('../../Training/Logs/')"
   ]
  },
  {
   "cell_type": "code",
   "execution_count": 7,
   "metadata": {},
   "outputs": [],
   "source": [
    "# Create the environment and vectorise it using DummyVecEnv\n",
    "v_env = DummyVecEnv([lambda: gym.make('Haunted_Mansion-v1', render_mode = None) for i in range(3)])\n",
    "# Using vec monitor since have multiple environments\n",
    "learn_env = VecMonitor(v_env,filename=log_path) \n"
   ]
  },
  {
   "cell_type": "code",
   "execution_count": 8,
   "metadata": {},
   "outputs": [
    {
     "name": "stdout",
     "output_type": "stream",
     "text": [
      "Using cpu device\n",
      "---------------------------------\n",
      "| rollout/           |          |\n",
      "|    ep_len_mean     | 88.4     |\n",
      "|    ep_rew_mean     | 1        |\n",
      "| time/              |          |\n",
      "|    fps             | 11884    |\n",
      "|    iterations      | 1        |\n",
      "|    time_elapsed    | 0        |\n",
      "|    total_timesteps | 6144     |\n",
      "---------------------------------\n",
      "-----------------------------------------\n",
      "| rollout/                |             |\n",
      "|    ep_len_mean          | 36.1        |\n",
      "|    ep_rew_mean          | 1           |\n",
      "| time/                   |             |\n",
      "|    fps                  | 6207        |\n",
      "|    iterations           | 2           |\n",
      "|    time_elapsed         | 1           |\n",
      "|    total_timesteps      | 12288       |\n",
      "| train/                  |             |\n",
      "|    approx_kl            | 0.019317197 |\n",
      "|    clip_fraction        | 0.264       |\n",
      "|    clip_range           | 0.2         |\n",
      "|    entropy_loss         | -1.37       |\n",
      "|    explained_variance   | 0.0699      |\n",
      "|    learning_rate        | 0.0003      |\n",
      "|    loss                 | 0.022       |\n",
      "|    n_updates            | 10          |\n",
      "|    policy_gradient_loss | -0.0326     |\n",
      "|    value_loss           | 0.113       |\n",
      "-----------------------------------------\n",
      "---------------------------------------\n",
      "| rollout/                |           |\n",
      "|    ep_len_mean          | 17.3      |\n",
      "|    ep_rew_mean          | 1         |\n",
      "| time/                   |           |\n",
      "|    fps                  | 5301      |\n",
      "|    iterations           | 3         |\n",
      "|    time_elapsed         | 3         |\n",
      "|    total_timesteps      | 18432     |\n",
      "| train/                  |           |\n",
      "|    approx_kl            | 0.0166404 |\n",
      "|    clip_fraction        | 0.369     |\n",
      "|    clip_range           | 0.2       |\n",
      "|    entropy_loss         | -1.32     |\n",
      "|    explained_variance   | 0.237     |\n",
      "|    learning_rate        | 0.0003    |\n",
      "|    loss                 | 0.00615   |\n",
      "|    n_updates            | 20        |\n",
      "|    policy_gradient_loss | -0.0471   |\n",
      "|    value_loss           | 0.119     |\n",
      "---------------------------------------\n",
      "-----------------------------------------\n",
      "| rollout/                |             |\n",
      "|    ep_len_mean          | 9.21        |\n",
      "|    ep_rew_mean          | 1           |\n",
      "| time/                   |             |\n",
      "|    fps                  | 4958        |\n",
      "|    iterations           | 4           |\n",
      "|    time_elapsed         | 4           |\n",
      "|    total_timesteps      | 24576       |\n",
      "| train/                  |             |\n",
      "|    approx_kl            | 0.023602081 |\n",
      "|    clip_fraction        | 0.431       |\n",
      "|    clip_range           | 0.2         |\n",
      "|    entropy_loss         | -1.24       |\n",
      "|    explained_variance   | 0.2         |\n",
      "|    learning_rate        | 0.0003      |\n",
      "|    loss                 | -0.0531     |\n",
      "|    n_updates            | 30          |\n",
      "|    policy_gradient_loss | -0.0536     |\n",
      "|    value_loss           | 0.0363      |\n",
      "-----------------------------------------\n",
      "-----------------------------------------\n",
      "| rollout/                |             |\n",
      "|    ep_len_mean          | 6.69        |\n",
      "|    ep_rew_mean          | 1           |\n",
      "| time/                   |             |\n",
      "|    fps                  | 4813        |\n",
      "|    iterations           | 5           |\n",
      "|    time_elapsed         | 6           |\n",
      "|    total_timesteps      | 30720       |\n",
      "| train/                  |             |\n",
      "|    approx_kl            | 0.022711642 |\n",
      "|    clip_fraction        | 0.439       |\n",
      "|    clip_range           | 0.2         |\n",
      "|    entropy_loss         | -1.11       |\n",
      "|    explained_variance   | -0.114      |\n",
      "|    learning_rate        | 0.0003      |\n",
      "|    loss                 | -0.04       |\n",
      "|    n_updates            | 40          |\n",
      "|    policy_gradient_loss | -0.0494     |\n",
      "|    value_loss           | 0.00666     |\n",
      "-----------------------------------------\n",
      "-----------------------------------------\n",
      "| rollout/                |             |\n",
      "|    ep_len_mean          | 5.38        |\n",
      "|    ep_rew_mean          | 1           |\n",
      "| time/                   |             |\n",
      "|    fps                  | 4724        |\n",
      "|    iterations           | 6           |\n",
      "|    time_elapsed         | 7           |\n",
      "|    total_timesteps      | 36864       |\n",
      "| train/                  |             |\n",
      "|    approx_kl            | 0.038827386 |\n",
      "|    clip_fraction        | 0.344       |\n",
      "|    clip_range           | 0.2         |\n",
      "|    entropy_loss         | -0.943      |\n",
      "|    explained_variance   | 0.00132     |\n",
      "|    learning_rate        | 0.0003      |\n",
      "|    loss                 | -0.0824     |\n",
      "|    n_updates            | 50          |\n",
      "|    policy_gradient_loss | -0.0542     |\n",
      "|    value_loss           | 0.00117     |\n",
      "-----------------------------------------\n",
      "-----------------------------------------\n",
      "| rollout/                |             |\n",
      "|    ep_len_mean          | 5.28        |\n",
      "|    ep_rew_mean          | 1           |\n",
      "| time/                   |             |\n",
      "|    fps                  | 4423        |\n",
      "|    iterations           | 7           |\n",
      "|    time_elapsed         | 9           |\n",
      "|    total_timesteps      | 43008       |\n",
      "| train/                  |             |\n",
      "|    approx_kl            | 0.039084528 |\n",
      "|    clip_fraction        | 0.335       |\n",
      "|    clip_range           | 0.2         |\n",
      "|    entropy_loss         | -0.742      |\n",
      "|    explained_variance   | 0.451       |\n",
      "|    learning_rate        | 0.0003      |\n",
      "|    loss                 | -0.0495     |\n",
      "|    n_updates            | 60          |\n",
      "|    policy_gradient_loss | -0.0537     |\n",
      "|    value_loss           | 0.000344    |\n",
      "-----------------------------------------\n",
      "-----------------------------------------\n",
      "| rollout/                |             |\n",
      "|    ep_len_mean          | 4.36        |\n",
      "|    ep_rew_mean          | 1           |\n",
      "| time/                   |             |\n",
      "|    fps                  | 4404        |\n",
      "|    iterations           | 8           |\n",
      "|    time_elapsed         | 11          |\n",
      "|    total_timesteps      | 49152       |\n",
      "| train/                  |             |\n",
      "|    approx_kl            | 0.053489503 |\n",
      "|    clip_fraction        | 0.19        |\n",
      "|    clip_range           | 0.2         |\n",
      "|    entropy_loss         | -0.553      |\n",
      "|    explained_variance   | 0.627       |\n",
      "|    learning_rate        | 0.0003      |\n",
      "|    loss                 | -0.0242     |\n",
      "|    n_updates            | 70          |\n",
      "|    policy_gradient_loss | -0.042      |\n",
      "|    value_loss           | 0.000174    |\n",
      "-----------------------------------------\n",
      "-----------------------------------------\n",
      "| rollout/                |             |\n",
      "|    ep_len_mean          | 3.98        |\n",
      "|    ep_rew_mean          | 1           |\n",
      "| time/                   |             |\n",
      "|    fps                  | 4391        |\n",
      "|    iterations           | 9           |\n",
      "|    time_elapsed         | 12          |\n",
      "|    total_timesteps      | 55296       |\n",
      "| train/                  |             |\n",
      "|    approx_kl            | 0.043818157 |\n",
      "|    clip_fraction        | 0.151       |\n",
      "|    clip_range           | 0.2         |\n",
      "|    entropy_loss         | -0.427      |\n",
      "|    explained_variance   | 0.847       |\n",
      "|    learning_rate        | 0.0003      |\n",
      "|    loss                 | -0.00989    |\n",
      "|    n_updates            | 80          |\n",
      "|    policy_gradient_loss | -0.0315     |\n",
      "|    value_loss           | 6.02e-05    |\n",
      "-----------------------------------------\n"
     ]
    },
    {
     "data": {
      "text/plain": [
       "<stable_baselines3.ppo.ppo.PPO at 0x162481ac0>"
      ]
     },
     "execution_count": 8,
     "metadata": {},
     "output_type": "execute_result"
    }
   ],
   "source": [
    "# Initialise PPO model\n",
    "# Having to use MultiInputPolicy instead of MlpPolicy since observations are of type dict\n",
    "model = PPO('MultiInputPolicy', learn_env, verbose=1)\n",
    "\n",
    "# Train the agent for 50_000 time steps\n",
    "model.learn(total_timesteps=50_000)"
   ]
  },
  {
   "cell_type": "markdown",
   "metadata": {},
   "source": [
    "### Training Logs and Graphs"
   ]
  },
  {
   "cell_type": "code",
   "execution_count": 9,
   "metadata": {},
   "outputs": [],
   "source": [
    "# Path to monitor.csv file\n",
    "monitor_file = ('../../Training/Logs/monitor.csv') "
   ]
  },
  {
   "cell_type": "code",
   "execution_count": 10,
   "metadata": {},
   "outputs": [],
   "source": [
    "import pandas as pd\n",
    "# Read the CSV file using pandas\n",
    "df = pd.read_csv(monitor_file,skiprows=1)"
   ]
  },
  {
   "cell_type": "code",
   "execution_count": 11,
   "metadata": {},
   "outputs": [],
   "source": [
    "episode_rewards = df['r'].values  # 'r' column contains the reward per episode\n",
    "episode_lengths = df['l'].values  # 'l' column contains the length of each episode\n",
    "episode_time = df['t'].values "
   ]
  },
  {
   "cell_type": "code",
   "execution_count": 12,
   "metadata": {},
   "outputs": [],
   "source": [
    "# Using moving average to smooth out the noise in both rewards and episode length\n",
    "smoothed_rewards = pd.Series(episode_rewards).rolling(window=100).mean()\n",
    "smoothed_length = pd.Series(episode_lengths).rolling(window=100).mean()"
   ]
  },
  {
   "cell_type": "code",
   "execution_count": 13,
   "metadata": {},
   "outputs": [
    {
     "data": {
      "image/png": "[encoded data removed]",
      "text/plain": [
       "<Figure size 1000x600 with 1 Axes>"
      ]
     },
     "metadata": {},
     "output_type": "display_data"
    }
   ],
   "source": [
    "plt.figure(figsize=(10, 6))\n",
    "plt.plot(smoothed_rewards, color='darkmagenta')\n",
    "plt.xlabel('Episode')\n",
    "plt.ylabel('Reward')\n",
    "plt.title('Smoothed Reward', fontweight = 'bold') \n",
    "plt.gca().spines[['top', 'right']].set_visible(False)\n",
    "plt.show()"
   ]
  },
  {
   "cell_type": "markdown",
   "metadata": {},
   "source": [
    "----\n",
    "**Comment:**\n",
    "\n",
    "Since the task completion reward is set to 1 for success and 0 for failure, the reward graph from the training logs appears as a horizontal line. I as I progress to a more complex environment adding more rewards and penalties, this graph will look different.\n"
   ]
  },
  {
   "cell_type": "code",
   "execution_count": 14,
   "metadata": {},
   "outputs": [
    {
     "data": {
      "image/png": "[encoded data removed]",
      "text/plain": [
       "<Figure size 1000x600 with 1 Axes>"
      ]
     },
     "metadata": {},
     "output_type": "display_data"
    }
   ],
   "source": [
    "plt.figure(figsize=(10, 6))\n",
    "plt.plot(smoothed_length, color='darkmagenta')\n",
    "plt.xlabel('Episode')\n",
    "plt.ylabel('Episode Length in Timesteps')\n",
    "plt.title('Smoothed Episode Length', fontweight = 'bold')\n",
    "plt.gca().spines[['top', 'right']].set_visible(False)\n",
    "plt.show()"
   ]
  },
  {
   "cell_type": "markdown",
   "metadata": {},
   "source": [
    "----\n",
    "**Comment:**\n",
    "\n",
    "Early in the training the agent takes a more timesteps to complete the task. This is expected in RL as the agent prioritises exploration during the early stages, trying different actions to better understand its environment. As a result, it requires more timesteps per episode.\n",
    "\n",
    "As the training progresses, the agent refines its policy and begins to exploit what it has learned, leading to fewer timesteps per episode. The curve begins to plateau around episode 3000, which indicated that the agent’s policy has become more effective in completing the task. This stability in timesteps suggests the agent has learned a near-optimal path.\n",
    "\n",
    "\n",
    "\n"
   ]
  },
  {
   "cell_type": "markdown",
   "metadata": {},
   "source": [
    "### Saving the Model"
   ]
  },
  {
   "cell_type": "code",
   "execution_count": 15,
   "metadata": {},
   "outputs": [],
   "source": [
    "model.save('../../Training/Saved Models/PPO_simple_haunted_mansion')"
   ]
  },
  {
   "cell_type": "markdown",
   "metadata": {},
   "source": [
    "### Testing after PPO training"
   ]
  },
  {
   "cell_type": "code",
   "execution_count": 32,
   "metadata": {},
   "outputs": [],
   "source": [
    "gym.register(\n",
    "    id='Haunted_Mansion-v1',\n",
    "    entry_point='simple_env:Simple_Haunted_Mansion'  \n",
    ")"
   ]
  },
  {
   "cell_type": "code",
   "execution_count": 33,
   "metadata": {},
   "outputs": [],
   "source": [
    "env = gym.make('Haunted_Mansion-v1', render_mode = 'human')"
   ]
  },
  {
   "cell_type": "code",
   "execution_count": 34,
   "metadata": {},
   "outputs": [
    {
     "name": "stdout",
     "output_type": "stream",
     "text": [
      "Episode 1 Score: 1\n",
      "Episode 2 Score: 1\n",
      "Episode 3 Score: 1\n",
      "Episode 4 Score: 1\n",
      "Episode 5 Score: 1\n",
      "Episode 6 Score: 1\n",
      "Episode 7 Score: 1\n",
      "Episode 8 Score: 1\n",
      "Episode 9 Score: 1\n",
      "Episode 10 Score: 1\n",
      "Episode 11 Score: 1\n",
      "Episode 12 Score: 1\n",
      "Episode 13 Score: 1\n",
      "Episode 14 Score: 1\n",
      "Episode 15 Score: 1\n"
     ]
    }
   ],
   "source": [
    "# Setting the number of episodes for testing\n",
    "episodes = 15\n",
    "\n",
    "for episode in range(1, episodes + 1):\n",
    "   \n",
    "    # Resetting the environment to an initial state\n",
    "    obs, info_= env.reset()\n",
    "    done = False\n",
    "    \n",
    "    while not done:\n",
    "        # Get action from the trained model\n",
    "        action, _ = model.predict(obs) \n",
    "        \n",
    "        # Step through the environment using the action\n",
    "        obs, reward, terminated,truncated, info = env.step(action)  \n",
    "               \n",
    "        # Update the done condition based on terminated flag (truncated is always False in this env)\n",
    "        done = terminated\n",
    "\n",
    "        # Visualise the environment after each action agent takes\n",
    "        env.render()\n",
    "        \n",
    "        # Delay to slow down the movement for better observation\n",
    "        pygame.time.delay(350) \n",
    "    \n",
    "    # After the episode ends, print the score\n",
    "    print(f'Episode {episode} Score: {reward}')\n",
    "\n",
    "env.close()\n"
   ]
  },
  {
   "cell_type": "markdown",
   "metadata": {},
   "source": [
    "----\n",
    "**Comment:**\n",
    "\n",
    "After seeing the agent's actions via pygame, its clear the agent doesn't always take the most optimal path, to get the agent to do this I can add a penalty to the number of timesteps taken to reach the target. This is something I will implement by adding a penalty of 0.1 for every action which did not result in finding the target location.\n",
    "\n",
    "To do this I will add a else case into the if statement in the step function for reward.\n",
    "\n"
   ]
  },
  {
   "cell_type": "markdown",
   "metadata": {},
   "source": [
    "## Evalution\n",
    "-----"
   ]
  },
  {
   "cell_type": "markdown",
   "metadata": {},
   "source": [
    "Not much point in running the evaluate_policy since reward system is quite simple. Across all episodes the agent was able to get to the door and receive the reward of 1.\n",
    "\n",
    "Since there is no penalty there is no real incentive for the agent to learn the most optimal path to the exit door. To add penalty to the reward to force the agent to start finding the optimal path. I will be adding this in in the next iteration of my custom environment. "
   ]
  },
  {
   "cell_type": "markdown",
   "metadata": {},
   "source": [
    "## Summary\n",
    "-------"
   ]
  },
  {
   "cell_type": "markdown",
   "metadata": {},
   "source": [
    "In this notebook, I have successfully created a simple custom environment for Trick or ReTreat with rendering in pygame. \n",
    "\n",
    "After training the agent using PPO, it is clear the agent has learnt to escape the mansion but fails to find the most optimal path. In the next notebook I will be making the following changes to the environment:\n",
    "\n",
    "    - adding penalty for each timestep the agent does not reach its target(door).\n",
    "    - adding in ghosts and candies to see if the agent can find an optimal path while maximsing its rewards.\n",
    "    - implement Q-learning instead of PPO to deal with the added complexity.\n",
    "    - compare PPO model and Q-learning training to see which trains the agent better."
   ]
  }
 ],
 "metadata": {
  "kernelspec": {
   "display_name": "trick_or_retreat",
   "language": "python",
   "name": "python3"
  },
  "language_info": {
   "codemirror_mode": {
    "name": "ipython",
    "version": 3
   },
   "file_extension": ".py",
   "mimetype": "text/x-python",
   "name": "python",
   "nbconvert_exporter": "python",
   "pygments_lexer": "ipython3",
   "version": "3.9.20"
  }
 },
 "nbformat": 4,
 "nbformat_minor": 2
}
