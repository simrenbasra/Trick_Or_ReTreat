{
 "cells": [
  {
   "cell_type": "markdown",
   "metadata": {},
   "source": [
    "# Custom Environment: Intermediate Haunted Mansion\n",
    "------"
   ]
  },
  {
   "cell_type": "markdown",
   "metadata": {},
   "source": [
    "Building on top of the simple environment by adding in ghosts and candies, in addition to a penalty for each timestep the agent is not at its target location.\n",
    "\n",
    "Rules of the environemnt are the same with some modifications:\n",
    "\n",
    "    - There are 4 discrete actions the agent can take: up. down, left and right\n",
    "    - The game terminates when the agent has reached the exit door of the haunted mansion\n",
    "    - The agent represents the trick-or-treater\n",
    "    - The agent receives a reward of + 10 when they have reached the exit door\n",
    "    - For each timestep where the agent is not at the target location, they receive a penalty of - 0.1\n",
    "    - If the agent encounters a ghost along their path they receive a penalty of -5, if they encounter a candy they recieve reward of +5"
   ]
  },
  {
   "cell_type": "markdown",
   "metadata": {},
   "source": [
    "## Set Up\n",
    "-----"
   ]
  },
  {
   "cell_type": "code",
   "execution_count": 1,
   "metadata": {},
   "outputs": [],
   "source": [
    "import numpy as np\n",
    "import gymnasium as gym\n",
    "import pygame\n",
    "import sys\n",
    "import matplotlib.pyplot as plt\n",
    "from intermediate_env import Intm_Haunted_Mansion"
   ]
  },
  {
   "cell_type": "markdown",
   "metadata": {},
   "source": [
    "## Defining Custom Environment\n",
    "----"
   ]
  },
  {
   "cell_type": "code",
   "execution_count": 2,
   "metadata": {},
   "outputs": [],
   "source": [
    "# Register the environment\n",
    "gym.register(\n",
    "    id='Haunted_Mansion-v2',\n",
    "    entry_point = 'intermediate_env:Intm_Haunted_Mansion'  \n",
    ")"
   ]
  },
  {
   "cell_type": "code",
   "execution_count": 3,
   "metadata": {},
   "outputs": [],
   "source": [
    "# Make the custom env, set the render_mode to huamn\n",
    "env = gym.make('Haunted_Mansion-v2',  render_mode='human')"
   ]
  },
  {
   "cell_type": "markdown",
   "metadata": {},
   "source": [
    "### Quick Rendering Test with Random Actions"
   ]
  },
  {
   "cell_type": "code",
   "execution_count": 4,
   "metadata": {},
   "outputs": [],
   "source": [
    "# Resetting the environment, to set the agent to a random starting place on the grid\n",
    "env.reset()\n",
    "score = 0\n",
    "# Run the environment for 50 random steps\n",
    "for i in range(50):\n",
    "\n",
    "    # Using sample() to pick random action for agent to take\n",
    "    action = env.action_space.sample()\n",
    "    # Calling step to get information on env after action takes the random action\n",
    "    obs, reward, terminated, truncated, info = env.step(action)\n",
    "\n",
    "    env.render()\n",
    "    \n",
    "    # Add time delay in pygame to pause after each action, allows for better viewing\n",
    "    pygame.time.delay(350)\n",
    "    score =+ reward\n",
    "\n",
    "    # If the agent has reached the target, break out of the loop and end the episode\n",
    "    if terminated:\n",
    "        break\n",
    "\n",
    "# Close the environment\n",
    "env.close()"
   ]
  },
  {
   "cell_type": "markdown",
   "metadata": {},
   "source": [
    "## Training with PPO\n",
    "---"
   ]
  },
  {
   "cell_type": "code",
   "execution_count": 5,
   "metadata": {},
   "outputs": [],
   "source": [
    "# Importing stable baselines 3 for PPO and Wrappers\n",
    "from stable_baselines3 import PPO\n",
    "from stable_baselines3.common.vec_env import DummyVecEnv\n",
    "from stable_baselines3.common.vec_env import VecMonitor"
   ]
  },
  {
   "cell_type": "code",
   "execution_count": 6,
   "metadata": {},
   "outputs": [],
   "source": [
    "log_path = ('../../Training/Logs/')"
   ]
  },
  {
   "cell_type": "code",
   "execution_count": 7,
   "metadata": {},
   "outputs": [],
   "source": [
    "# Create the environment and vectorise it using DummyVecEnv\n",
    "v_env = DummyVecEnv([lambda: gym.make('Haunted_Mansion-v2', render_mode = None) for i in range(3)])\n",
    "# Using VecMonitor since have multiple environments\n",
    "learn_env = VecMonitor(v_env,filename=log_path) "
   ]
  },
  {
   "cell_type": "code",
   "execution_count": 8,
   "metadata": {},
   "outputs": [
    {
     "name": "stdout",
     "output_type": "stream",
     "text": [
      "Using cpu device\n"
     ]
    },
    {
     "name": "stdout",
     "output_type": "stream",
     "text": [
      "---------------------------------\n",
      "| rollout/           |          |\n",
      "|    ep_len_mean     | 73.7     |\n",
      "|    ep_rew_mean     | -23.6    |\n",
      "| time/              |          |\n",
      "|    fps             | 10099    |\n",
      "|    iterations      | 1        |\n",
      "|    time_elapsed    | 0        |\n",
      "|    total_timesteps | 6144     |\n",
      "---------------------------------\n",
      "-----------------------------------------\n",
      "| rollout/                |             |\n",
      "|    ep_len_mean          | 35.3        |\n",
      "|    ep_rew_mean          | -1.58       |\n",
      "| time/                   |             |\n",
      "|    fps                  | 5372        |\n",
      "|    iterations           | 2           |\n",
      "|    time_elapsed         | 2           |\n",
      "|    total_timesteps      | 12288       |\n",
      "| train/                  |             |\n",
      "|    approx_kl            | 0.018951708 |\n",
      "|    clip_fraction        | 0.292       |\n",
      "|    clip_range           | 0.2         |\n",
      "|    entropy_loss         | -1.37       |\n",
      "|    explained_variance   | -0.00334    |\n",
      "|    learning_rate        | 0.0003      |\n",
      "|    loss                 | 46.8        |\n",
      "|    n_updates            | 10          |\n",
      "|    policy_gradient_loss | -0.0324     |\n",
      "|    value_loss           | 93          |\n",
      "-----------------------------------------\n",
      "-----------------------------------------\n",
      "| rollout/                |             |\n",
      "|    ep_len_mean          | 18.6        |\n",
      "|    ep_rew_mean          | 9.59        |\n",
      "| time/                   |             |\n",
      "|    fps                  | 4846        |\n",
      "|    iterations           | 3           |\n",
      "|    time_elapsed         | 3           |\n",
      "|    total_timesteps      | 18432       |\n",
      "| train/                  |             |\n",
      "|    approx_kl            | 0.014779378 |\n",
      "|    clip_fraction        | 0.304       |\n",
      "|    clip_range           | 0.2         |\n",
      "|    entropy_loss         | -1.32       |\n",
      "|    explained_variance   | 0.104       |\n",
      "|    learning_rate        | 0.0003      |\n",
      "|    loss                 | 43          |\n",
      "|    n_updates            | 20          |\n",
      "|    policy_gradient_loss | -0.0332     |\n",
      "|    value_loss           | 114         |\n",
      "-----------------------------------------\n",
      "-----------------------------------------\n",
      "| rollout/                |             |\n",
      "|    ep_len_mean          | 11.6        |\n",
      "|    ep_rew_mean          | 15          |\n",
      "| time/                   |             |\n",
      "|    fps                  | 4655        |\n",
      "|    iterations           | 4           |\n",
      "|    time_elapsed         | 5           |\n",
      "|    total_timesteps      | 24576       |\n",
      "| train/                  |             |\n",
      "|    approx_kl            | 0.016838213 |\n",
      "|    clip_fraction        | 0.341       |\n",
      "|    clip_range           | 0.2         |\n",
      "|    entropy_loss         | -1.25       |\n",
      "|    explained_variance   | 0.2         |\n",
      "|    learning_rate        | 0.0003      |\n",
      "|    loss                 | 33          |\n",
      "|    n_updates            | 30          |\n",
      "|    policy_gradient_loss | -0.0431     |\n",
      "|    value_loss           | 81.4        |\n",
      "-----------------------------------------\n",
      "-----------------------------------------\n",
      "| rollout/                |             |\n",
      "|    ep_len_mean          | 8.3         |\n",
      "|    ep_rew_mean          | 16.7        |\n",
      "| time/                   |             |\n",
      "|    fps                  | 4544        |\n",
      "|    iterations           | 5           |\n",
      "|    time_elapsed         | 6           |\n",
      "|    total_timesteps      | 30720       |\n",
      "| train/                  |             |\n",
      "|    approx_kl            | 0.018174686 |\n",
      "|    clip_fraction        | 0.387       |\n",
      "|    clip_range           | 0.2         |\n",
      "|    entropy_loss         | -1.15       |\n",
      "|    explained_variance   | 0.26        |\n",
      "|    learning_rate        | 0.0003      |\n",
      "|    loss                 | 16.2        |\n",
      "|    n_updates            | 40          |\n",
      "|    policy_gradient_loss | -0.0479     |\n",
      "|    value_loss           | 41.8        |\n",
      "-----------------------------------------\n",
      "-----------------------------------------\n",
      "| rollout/                |             |\n",
      "|    ep_len_mean          | 6.92        |\n",
      "|    ep_rew_mean          | 18.5        |\n",
      "| time/                   |             |\n",
      "|    fps                  | 4445        |\n",
      "|    iterations           | 6           |\n",
      "|    time_elapsed         | 8           |\n",
      "|    total_timesteps      | 36864       |\n",
      "| train/                  |             |\n",
      "|    approx_kl            | 0.021307932 |\n",
      "|    clip_fraction        | 0.333       |\n",
      "|    clip_range           | 0.2         |\n",
      "|    entropy_loss         | -1.02       |\n",
      "|    explained_variance   | 0.195       |\n",
      "|    learning_rate        | 0.0003      |\n",
      "|    loss                 | 7.75        |\n",
      "|    n_updates            | 50          |\n",
      "|    policy_gradient_loss | -0.042      |\n",
      "|    value_loss           | 19.2        |\n",
      "-----------------------------------------\n",
      "-----------------------------------------\n",
      "| rollout/                |             |\n",
      "|    ep_len_mean          | 6.25        |\n",
      "|    ep_rew_mean          | 18.5        |\n",
      "| time/                   |             |\n",
      "|    fps                  | 4391        |\n",
      "|    iterations           | 7           |\n",
      "|    time_elapsed         | 9           |\n",
      "|    total_timesteps      | 43008       |\n",
      "| train/                  |             |\n",
      "|    approx_kl            | 0.024515525 |\n",
      "|    clip_fraction        | 0.266       |\n",
      "|    clip_range           | 0.2         |\n",
      "|    entropy_loss         | -0.916      |\n",
      "|    explained_variance   | 0.175       |\n",
      "|    learning_rate        | 0.0003      |\n",
      "|    loss                 | 5.56        |\n",
      "|    n_updates            | 60          |\n",
      "|    policy_gradient_loss | -0.0391     |\n",
      "|    value_loss           | 9.09        |\n",
      "-----------------------------------------\n",
      "-----------------------------------------\n",
      "| rollout/                |             |\n",
      "|    ep_len_mean          | 5.85        |\n",
      "|    ep_rew_mean          | 20.5        |\n",
      "| time/                   |             |\n",
      "|    fps                  | 4339        |\n",
      "|    iterations           | 8           |\n",
      "|    time_elapsed         | 11          |\n",
      "|    total_timesteps      | 49152       |\n",
      "| train/                  |             |\n",
      "|    approx_kl            | 0.015598685 |\n",
      "|    clip_fraction        | 0.216       |\n",
      "|    clip_range           | 0.2         |\n",
      "|    entropy_loss         | -0.81       |\n",
      "|    explained_variance   | 0.0368      |\n",
      "|    learning_rate        | 0.0003      |\n",
      "|    loss                 | 3.7         |\n",
      "|    n_updates            | 70          |\n",
      "|    policy_gradient_loss | -0.0423     |\n",
      "|    value_loss           | 5.43        |\n",
      "-----------------------------------------\n",
      "-----------------------------------------\n",
      "| rollout/                |             |\n",
      "|    ep_len_mean          | 5.46        |\n",
      "|    ep_rew_mean          | 21.5        |\n",
      "| time/                   |             |\n",
      "|    fps                  | 4291        |\n",
      "|    iterations           | 9           |\n",
      "|    time_elapsed         | 12          |\n",
      "|    total_timesteps      | 55296       |\n",
      "| train/                  |             |\n",
      "|    approx_kl            | 0.015603301 |\n",
      "|    clip_fraction        | 0.221       |\n",
      "|    clip_range           | 0.2         |\n",
      "|    entropy_loss         | -0.715      |\n",
      "|    explained_variance   | 0.0723      |\n",
      "|    learning_rate        | 0.0003      |\n",
      "|    loss                 | 2.06        |\n",
      "|    n_updates            | 80          |\n",
      "|    policy_gradient_loss | -0.0422     |\n",
      "|    value_loss           | 4.32        |\n",
      "-----------------------------------------\n",
      "-----------------------------------------\n",
      "| rollout/                |             |\n",
      "|    ep_len_mean          | 5.7         |\n",
      "|    ep_rew_mean          | 21.9        |\n",
      "| time/                   |             |\n",
      "|    fps                  | 4270        |\n",
      "|    iterations           | 10          |\n",
      "|    time_elapsed         | 14          |\n",
      "|    total_timesteps      | 61440       |\n",
      "| train/                  |             |\n",
      "|    approx_kl            | 0.017025614 |\n",
      "|    clip_fraction        | 0.171       |\n",
      "|    clip_range           | 0.2         |\n",
      "|    entropy_loss         | -0.644      |\n",
      "|    explained_variance   | 0.215       |\n",
      "|    learning_rate        | 0.0003      |\n",
      "|    loss                 | 1.78        |\n",
      "|    n_updates            | 90          |\n",
      "|    policy_gradient_loss | -0.0382     |\n",
      "|    value_loss           | 3.23        |\n",
      "-----------------------------------------\n",
      "-----------------------------------------\n",
      "| rollout/                |             |\n",
      "|    ep_len_mean          | 5.66        |\n",
      "|    ep_rew_mean          | 22.9        |\n",
      "| time/                   |             |\n",
      "|    fps                  | 4256        |\n",
      "|    iterations           | 11          |\n",
      "|    time_elapsed         | 15          |\n",
      "|    total_timesteps      | 67584       |\n",
      "| train/                  |             |\n",
      "|    approx_kl            | 0.016400935 |\n",
      "|    clip_fraction        | 0.15        |\n",
      "|    clip_range           | 0.2         |\n",
      "|    entropy_loss         | -0.569      |\n",
      "|    explained_variance   | 0.395       |\n",
      "|    learning_rate        | 0.0003      |\n",
      "|    loss                 | 0.943       |\n",
      "|    n_updates            | 100         |\n",
      "|    policy_gradient_loss | -0.0324     |\n",
      "|    value_loss           | 3.08        |\n",
      "-----------------------------------------\n",
      "-----------------------------------------\n",
      "| rollout/                |             |\n",
      "|    ep_len_mean          | 6.33        |\n",
      "|    ep_rew_mean          | 23.5        |\n",
      "| time/                   |             |\n",
      "|    fps                  | 4245        |\n",
      "|    iterations           | 12          |\n",
      "|    time_elapsed         | 17          |\n",
      "|    total_timesteps      | 73728       |\n",
      "| train/                  |             |\n",
      "|    approx_kl            | 0.014156473 |\n",
      "|    clip_fraction        | 0.142       |\n",
      "|    clip_range           | 0.2         |\n",
      "|    entropy_loss         | -0.511      |\n",
      "|    explained_variance   | 0.565       |\n",
      "|    learning_rate        | 0.0003      |\n",
      "|    loss                 | 0.748       |\n",
      "|    n_updates            | 110         |\n",
      "|    policy_gradient_loss | -0.0307     |\n",
      "|    value_loss           | 2.09        |\n",
      "-----------------------------------------\n",
      "-----------------------------------------\n",
      "| rollout/                |             |\n",
      "|    ep_len_mean          | 5.26        |\n",
      "|    ep_rew_mean          | 23          |\n",
      "| time/                   |             |\n",
      "|    fps                  | 4234        |\n",
      "|    iterations           | 13          |\n",
      "|    time_elapsed         | 18          |\n",
      "|    total_timesteps      | 79872       |\n",
      "| train/                  |             |\n",
      "|    approx_kl            | 0.015655031 |\n",
      "|    clip_fraction        | 0.144       |\n",
      "|    clip_range           | 0.2         |\n",
      "|    entropy_loss         | -0.46       |\n",
      "|    explained_variance   | 0.655       |\n",
      "|    learning_rate        | 0.0003      |\n",
      "|    loss                 | 0.735       |\n",
      "|    n_updates            | 120         |\n",
      "|    policy_gradient_loss | -0.0324     |\n",
      "|    value_loss           | 2.22        |\n",
      "-----------------------------------------\n",
      "-----------------------------------------\n",
      "| rollout/                |             |\n",
      "|    ep_len_mean          | 6.34        |\n",
      "|    ep_rew_mean          | 24.7        |\n",
      "| time/                   |             |\n",
      "|    fps                  | 4223        |\n",
      "|    iterations           | 14          |\n",
      "|    time_elapsed         | 20          |\n",
      "|    total_timesteps      | 86016       |\n",
      "| train/                  |             |\n",
      "|    approx_kl            | 0.018036915 |\n",
      "|    clip_fraction        | 0.155       |\n",
      "|    clip_range           | 0.2         |\n",
      "|    entropy_loss         | -0.408      |\n",
      "|    explained_variance   | 0.766       |\n",
      "|    learning_rate        | 0.0003      |\n",
      "|    loss                 | 0.876       |\n",
      "|    n_updates            | 130         |\n",
      "|    policy_gradient_loss | -0.0367     |\n",
      "|    value_loss           | 1.54        |\n",
      "-----------------------------------------\n",
      "-----------------------------------------\n",
      "| rollout/                |             |\n",
      "|    ep_len_mean          | 6.97        |\n",
      "|    ep_rew_mean          | 24.3        |\n",
      "| time/                   |             |\n",
      "|    fps                  | 4213        |\n",
      "|    iterations           | 15          |\n",
      "|    time_elapsed         | 21          |\n",
      "|    total_timesteps      | 92160       |\n",
      "| train/                  |             |\n",
      "|    approx_kl            | 0.031870127 |\n",
      "|    clip_fraction        | 0.169       |\n",
      "|    clip_range           | 0.2         |\n",
      "|    entropy_loss         | -0.357      |\n",
      "|    explained_variance   | 0.823       |\n",
      "|    learning_rate        | 0.0003      |\n",
      "|    loss                 | 0.585       |\n",
      "|    n_updates            | 140         |\n",
      "|    policy_gradient_loss | -0.0391     |\n",
      "|    value_loss           | 1.1         |\n",
      "-----------------------------------------\n",
      "-----------------------------------------\n",
      "| rollout/                |             |\n",
      "|    ep_len_mean          | 8.13        |\n",
      "|    ep_rew_mean          | 26.2        |\n",
      "| time/                   |             |\n",
      "|    fps                  | 4189        |\n",
      "|    iterations           | 16          |\n",
      "|    time_elapsed         | 23          |\n",
      "|    total_timesteps      | 98304       |\n",
      "| train/                  |             |\n",
      "|    approx_kl            | 0.033835474 |\n",
      "|    clip_fraction        | 0.199       |\n",
      "|    clip_range           | 0.2         |\n",
      "|    entropy_loss         | -0.32       |\n",
      "|    explained_variance   | 0.709       |\n",
      "|    learning_rate        | 0.0003      |\n",
      "|    loss                 | 1.13        |\n",
      "|    n_updates            | 150         |\n",
      "|    policy_gradient_loss | -0.0286     |\n",
      "|    value_loss           | 2.77        |\n",
      "-----------------------------------------\n",
      "-----------------------------------------\n",
      "| rollout/                |             |\n",
      "|    ep_len_mean          | 7.31        |\n",
      "|    ep_rew_mean          | 26.2        |\n",
      "| time/                   |             |\n",
      "|    fps                  | 4181        |\n",
      "|    iterations           | 17          |\n",
      "|    time_elapsed         | 24          |\n",
      "|    total_timesteps      | 104448      |\n",
      "| train/                  |             |\n",
      "|    approx_kl            | 0.044047054 |\n",
      "|    clip_fraction        | 0.137       |\n",
      "|    clip_range           | 0.2         |\n",
      "|    entropy_loss         | -0.251      |\n",
      "|    explained_variance   | 0.87        |\n",
      "|    learning_rate        | 0.0003      |\n",
      "|    loss                 | 0.509       |\n",
      "|    n_updates            | 160         |\n",
      "|    policy_gradient_loss | -0.0279     |\n",
      "|    value_loss           | 1.09        |\n",
      "-----------------------------------------\n"
     ]
    },
    {
     "data": {
      "text/plain": [
       "<stable_baselines3.ppo.ppo.PPO at 0x1045d13a0>"
      ]
     },
     "execution_count": 8,
     "metadata": {},
     "output_type": "execute_result"
    }
   ],
   "source": [
    "# Initialise PPO model\n",
    "# Having to use MultiInputPolicy instead of MlpPolicy since observations are of type dict\n",
    "model = PPO('MultiInputPolicy', learn_env, verbose=1)\n",
    "\n",
    "# Train the agent for 100_000 time steps\n",
    "model.learn(total_timesteps=100_000)"
   ]
  },
  {
   "cell_type": "markdown",
   "metadata": {},
   "source": [
    "### Training Logs and Graphs"
   ]
  },
  {
   "cell_type": "code",
   "execution_count": 9,
   "metadata": {},
   "outputs": [],
   "source": [
    "# Path to monitor.csv file\n",
    "monitor_file = ('../../Training/Logs/monitor.csv') "
   ]
  },
  {
   "cell_type": "code",
   "execution_count": 10,
   "metadata": {},
   "outputs": [],
   "source": [
    "import pandas as pd\n",
    "# Read the CSV file using pandas\n",
    "df = pd.read_csv(monitor_file,skiprows=1)"
   ]
  },
  {
   "cell_type": "code",
   "execution_count": 11,
   "metadata": {},
   "outputs": [],
   "source": [
    "episode_rewards = df['r'].values  # 'r' column contains the reward per episode\n",
    "episode_lengths = df['l'].values  # 'l' column contains the length of each episode\n",
    "episode_time = df['t'].values "
   ]
  },
  {
   "cell_type": "code",
   "execution_count": 12,
   "metadata": {},
   "outputs": [],
   "source": [
    "# Using moving average to smooth out the noise in both rewards and episode length\n",
    "smoothed_rewards = pd.Series(episode_rewards).rolling(window=100).mean()\n",
    "smoothed_length = pd.Series(episode_lengths).rolling(window=100).mean()"
   ]
  },
  {
   "cell_type": "code",
   "execution_count": 13,
   "metadata": {},
   "outputs": [
    {
     "data": {
      "image/png": "[encoded data removed]",
      "text/plain": [
       "<Figure size 1000x600 with 1 Axes>"
      ]
     },
     "metadata": {},
     "output_type": "display_data"
    }
   ],
   "source": [
    "plt.figure(figsize=(10, 6))\n",
    "plt.plot(smoothed_rewards, color='darkmagenta')\n",
    "plt.xlabel('Episode')\n",
    "plt.ylabel('Reward')\n",
    "plt.title('Smoothed Reward')\n",
    "plt.gca().spines[['top', 'right']].set_visible(False)\n",
    "plt.show()"
   ]
  },
  {
   "cell_type": "markdown",
   "metadata": {},
   "source": [
    "----\n",
    "**Comment:**\n",
    "\n",
    "Early in the training, the reward for the first 2000 episdoes vary a lot. This makes sense as this is when the agent is exploring the environment, updating its policy based on its observations. This can be seen by the steep improvement in reward per episode as the policy is updated and the agent starts to exploit the environemnt.\n",
    "\n",
    "After 2000 episodes, the curve begins to flatten and the rewards start to stabalise around the 20 mark. This is a sign the agent has successfully learned the task well enough and its performance is now stable. After 8000 episodes, the agent's performance no longer improves much suggesting the agent has reached a near optimal policy.\n",
    "\n",
    "Overall training the agent aligned with typical patterns seen from RL agents. The agent gradually shifts from exploration to exploitation with the learning curve flattening as it reaches a near-optimal policy. "
   ]
  },
  {
   "cell_type": "code",
   "execution_count": 14,
   "metadata": {},
   "outputs": [
    {
     "data": {
      "image/png": "[encoded data removed]",
      "text/plain": [
       "<Figure size 1000x600 with 1 Axes>"
      ]
     },
     "metadata": {},
     "output_type": "display_data"
    }
   ],
   "source": [
    "plt.figure(figsize=(10, 6))\n",
    "plt.plot(smoothed_length, color='darkmagenta')\n",
    "plt.xlabel('Episode')\n",
    "plt.ylabel('Episode Length in Timesteps')\n",
    "plt.title('Smoothed Episode Length')\n",
    "plt.gca().spines[['top', 'right']].set_visible(False)\n",
    "plt.show()"
   ]
  },
  {
   "cell_type": "markdown",
   "metadata": {},
   "source": [
    "-----\n",
    "**Comment:**\n",
    "\n",
    "Early in the training the agent takes a more timesteps to complete the task. This makes sense in RL as early on in the training the agent prioritises exploring its environment taking more timesteps.\n",
    "\n",
    "As the training progresses, the agent refines its policy and begins to exploit what it has learned, leading to fewer timesteps per episode. The curve beigns to plateau around episode 4000, the agent's policy has become more effective in completing the task, This stability in timesteps suggests the agent has learned a near-optimal path.\n",
    "\n",
    "After 14,000 episodes, there is a slight increase in timesteps. I am unsure why this could be happening, perhaps the agent has begun to overfit to the certain environment states and struggles in different states. This would be something to look into, I think I will have to do a bit more research into RL to see why this\n"
   ]
  },
  {
   "cell_type": "markdown",
   "metadata": {},
   "source": [
    "### Saving the Model"
   ]
  },
  {
   "cell_type": "code",
   "execution_count": 15,
   "metadata": {},
   "outputs": [],
   "source": [
    "model.save('../../Training/Saved Models/PPO_intm_haunted_mansion')"
   ]
  },
  {
   "cell_type": "markdown",
   "metadata": {},
   "source": [
    "### Evaluation"
   ]
  },
  {
   "cell_type": "code",
   "execution_count": 16,
   "metadata": {},
   "outputs": [
    {
     "data": {
      "text/plain": [
       "(28.61, 1.5436642)"
      ]
     },
     "execution_count": 16,
     "metadata": {},
     "output_type": "execute_result"
    }
   ],
   "source": [
    "from stable_baselines3.common.evaluation import evaluate_policy\n",
    "evaluate_policy(model, learn_env, n_eval_episodes = 10, render = False)"
   ]
  },
  {
   "cell_type": "markdown",
   "metadata": {},
   "source": [
    "----\n",
    "**Comment**\n",
    "\n",
    "**Mean Reward: 26.34**\n",
    "- Average reward across all ten episodes is greater than 20.\n",
    "- 20 points is given when the agent reaches the target(door), this means the agent has learned the task successfully.\n",
    "\n",
    "**Standard Deviation: 4.21**\n",
    "- Shows some variability in the agent's performance across all episodes.\n",
    "- Suggests the policy the agent has is rather stable and produces consistent results.- Could be as penalty for a action not resulting in reward is too low at -0.1 could increase to -0.2 but then also would reduce the exploration of the agent."
   ]
  },
  {
   "cell_type": "markdown",
   "metadata": {},
   "source": [
    "### Testing After Training"
   ]
  },
  {
   "cell_type": "code",
   "execution_count": 17,
   "metadata": {},
   "outputs": [],
   "source": [
    "env = gym.make('Haunted_Mansion-v2', render_mode = 'human', step_penalty = 0.2)"
   ]
  },
  {
   "cell_type": "code",
   "execution_count": 18,
   "metadata": {},
   "outputs": [
    {
     "name": "stdout",
     "output_type": "stream",
     "text": [
      "Episode 1 Score: 19.2\n",
      "Episode 2 Score: 28.2\n",
      "Episode 3 Score: 28.6\n",
      "Episode 4 Score: 28.0\n",
      "Episode 5 Score: 28.4\n",
      "Episode 6 Score: 28.0\n",
      "Episode 7 Score: 28.0\n",
      "Episode 8 Score: 28.0\n",
      "Episode 9 Score: 28.4\n",
      "Episode 10 Score: 28.4\n",
      "Episode 11 Score: 28.4\n",
      "Episode 12 Score: 28.4\n",
      "Episode 13 Score: 23.0\n",
      "Episode 14 Score: 19.8\n",
      "Episode 15 Score: 27.6\n"
     ]
    }
   ],
   "source": [
    "# Setting the number of episodes for testing\n",
    "episodes = 15\n",
    "\n",
    "for episode in range(1, episodes + 1):\n",
    "   \n",
    "    # Resetting the environment to an initial state\n",
    "    obs, info_= env.reset()\n",
    "    done = False\n",
    "    score = 0\n",
    "    \n",
    "    while not done:\n",
    "        # Get action from the trained model\n",
    "        action, _ = model.predict(obs) \n",
    "        # Step through the environment using the action\n",
    "        obs, reward, terminated,truncated, info = env.step(action)  \n",
    "               \n",
    "        # Update the done condition based on terminated flag (truncated is always False in this env)\n",
    "        done = terminated\n",
    "\n",
    "        # Visualise the environment after each action agent takes\n",
    "        env.render()\n",
    "\n",
    "        # Add reward received for action to total episode score\n",
    "        score += reward\n",
    "        \n",
    "        # Delay to slow down the movement for better observation\n",
    "        pygame.time.delay(350) \n",
    "    \n",
    "    # After the episode ends, print the score\n",
    "    print(f'Episode {episode} Score: {round(score,2)}')\n",
    "\n",
    "env.close()"
   ]
  },
  {
   "cell_type": "markdown",
   "metadata": {},
   "source": [
    "-----\n",
    "**Comment:**\n",
    "\n",
    "Overall the agent shows a strong performance all but one score are greater than or equal to 20. \n",
    "\n",
    "Training with PPO was sufficient in this instance, could be due to the relative simplicity of the environment still. All objects (rewads/penalites) in the environemnt are stable apart from the agent. I now progress to training with Q-learning to compare results. \n",
    "\n",
    "I could also experiment more in fine tuning the rewards, especially the reward for taking unnecessary steps. Therefore I decided to add the penalty per step as a input paramter on environment init. This makes it easier to experiment with."
   ]
  },
  {
   "cell_type": "markdown",
   "metadata": {},
   "source": [
    "## Training with Q-learning\n",
    "----"
   ]
  },
  {
   "cell_type": "markdown",
   "metadata": {},
   "source": [
    "    Steps to Implement Q-Learning:\n",
    "    Step 1: Define the environment (state space, action space, reward function).\n",
    "    Step 2: Initialize the Q-table.\n",
    "    Step 3: Implement the agent's exploration/exploitation strategy (ε-greedy).\n",
    "    Step 4: Implement the Q-update rule.\n",
    "    Step 5: Train the agent by letting it interact with the environment and update the Q-table.\n",
    "    Step 6: After training, the Q-table will contain the optimal policy.\n"
   ]
  },
  {
   "cell_type": "markdown",
   "metadata": {},
   "source": [
    "## Summary\n",
    "---"
   ]
  },
  {
   "cell_type": "markdown",
   "metadata": {},
   "source": [
    "### RL Task Outline"
   ]
  }
 ],
 "metadata": {
  "kernelspec": {
   "display_name": "trick_or_retreat",
   "language": "python",
   "name": "python3"
  },
  "language_info": {
   "codemirror_mode": {
    "name": "ipython",
    "version": 3
   },
   "file_extension": ".py",
   "mimetype": "text/x-python",
   "name": "python",
   "nbconvert_exporter": "python",
   "pygments_lexer": "ipython3",
   "version": "3.9.20"
  }
 },
 "nbformat": 4,
 "nbformat_minor": 2
}
